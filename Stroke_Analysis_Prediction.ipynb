{
 "cells": [
  {
   "cell_type": "code",
   "execution_count": 142,
   "metadata": {},
   "outputs": [],
   "source": [
    "import pandas as pd\n",
    "import matplotlib.pyplot as plt\n",
    "import seaborn as sns\n",
    "import numpy as np\n",
    "%matplotlib inline"
   ]
  },
  {
   "cell_type": "code",
   "execution_count": 143,
   "metadata": {},
   "outputs": [],
   "source": [
    "df=pd.read_csv('healthcare-dataset-stroke-data.csv')"
   ]
  },
  {
   "cell_type": "code",
   "execution_count": 144,
   "metadata": {},
   "outputs": [
    {
     "data": {
      "text/plain": [
       "<bound method DataFrame.info of          id  gender   age  hypertension  heart_disease ever_married  \\\n",
       "0      9046    Male  67.0             0              1          Yes   \n",
       "1     51676  Female  61.0             0              0          Yes   \n",
       "2     31112    Male  80.0             0              1          Yes   \n",
       "3     60182  Female  49.0             0              0          Yes   \n",
       "4      1665  Female  79.0             1              0          Yes   \n",
       "...     ...     ...   ...           ...            ...          ...   \n",
       "5105  18234  Female  80.0             1              0          Yes   \n",
       "5106  44873  Female  81.0             0              0          Yes   \n",
       "5107  19723  Female  35.0             0              0          Yes   \n",
       "5108  37544    Male  51.0             0              0          Yes   \n",
       "5109  44679  Female  44.0             0              0          Yes   \n",
       "\n",
       "          work_type Residence_type  avg_glucose_level   bmi   smoking_status  \\\n",
       "0           Private          Urban             228.69  36.6  formerly smoked   \n",
       "1     Self-employed          Rural             202.21   NaN     never smoked   \n",
       "2           Private          Rural             105.92  32.5     never smoked   \n",
       "3           Private          Urban             171.23  34.4           smokes   \n",
       "4     Self-employed          Rural             174.12  24.0     never smoked   \n",
       "...             ...            ...                ...   ...              ...   \n",
       "5105        Private          Urban              83.75   NaN     never smoked   \n",
       "5106  Self-employed          Urban             125.20  40.0     never smoked   \n",
       "5107  Self-employed          Rural              82.99  30.6     never smoked   \n",
       "5108        Private          Rural             166.29  25.6  formerly smoked   \n",
       "5109       Govt_job          Urban              85.28  26.2          Unknown   \n",
       "\n",
       "      stroke  \n",
       "0          1  \n",
       "1          1  \n",
       "2          1  \n",
       "3          1  \n",
       "4          1  \n",
       "...      ...  \n",
       "5105       0  \n",
       "5106       0  \n",
       "5107       0  \n",
       "5108       0  \n",
       "5109       0  \n",
       "\n",
       "[5110 rows x 12 columns]>"
      ]
     },
     "execution_count": 144,
     "metadata": {},
     "output_type": "execute_result"
    }
   ],
   "source": [
    "df.info"
   ]
  },
  {
   "cell_type": "code",
   "execution_count": 145,
   "metadata": {},
   "outputs": [
    {
     "data": {
      "text/plain": [
       "Index(['id', 'gender', 'age', 'hypertension', 'heart_disease', 'ever_married',\n",
       "       'work_type', 'Residence_type', 'avg_glucose_level', 'bmi',\n",
       "       'smoking_status', 'stroke'],\n",
       "      dtype='object')"
      ]
     },
     "execution_count": 145,
     "metadata": {},
     "output_type": "execute_result"
    }
   ],
   "source": [
    "df.columns"
   ]
  },
  {
   "cell_type": "code",
   "execution_count": 146,
   "metadata": {},
   "outputs": [
    {
     "data": {
      "text/html": [
       "<div>\n",
       "<style scoped>\n",
       "    .dataframe tbody tr th:only-of-type {\n",
       "        vertical-align: middle;\n",
       "    }\n",
       "\n",
       "    .dataframe tbody tr th {\n",
       "        vertical-align: top;\n",
       "    }\n",
       "\n",
       "    .dataframe thead th {\n",
       "        text-align: right;\n",
       "    }\n",
       "</style>\n",
       "<table border=\"1\" class=\"dataframe\">\n",
       "  <thead>\n",
       "    <tr style=\"text-align: right;\">\n",
       "      <th></th>\n",
       "      <th>id</th>\n",
       "      <th>gender</th>\n",
       "      <th>age</th>\n",
       "      <th>hypertension</th>\n",
       "      <th>heart_disease</th>\n",
       "      <th>ever_married</th>\n",
       "      <th>work_type</th>\n",
       "      <th>Residence_type</th>\n",
       "      <th>avg_glucose_level</th>\n",
       "      <th>bmi</th>\n",
       "      <th>smoking_status</th>\n",
       "      <th>stroke</th>\n",
       "    </tr>\n",
       "  </thead>\n",
       "  <tbody>\n",
       "    <tr>\n",
       "      <th>0</th>\n",
       "      <td>9046</td>\n",
       "      <td>Male</td>\n",
       "      <td>67.0</td>\n",
       "      <td>0</td>\n",
       "      <td>1</td>\n",
       "      <td>Yes</td>\n",
       "      <td>Private</td>\n",
       "      <td>Urban</td>\n",
       "      <td>228.69</td>\n",
       "      <td>36.6</td>\n",
       "      <td>formerly smoked</td>\n",
       "      <td>1</td>\n",
       "    </tr>\n",
       "    <tr>\n",
       "      <th>1</th>\n",
       "      <td>51676</td>\n",
       "      <td>Female</td>\n",
       "      <td>61.0</td>\n",
       "      <td>0</td>\n",
       "      <td>0</td>\n",
       "      <td>Yes</td>\n",
       "      <td>Self-employed</td>\n",
       "      <td>Rural</td>\n",
       "      <td>202.21</td>\n",
       "      <td>NaN</td>\n",
       "      <td>never smoked</td>\n",
       "      <td>1</td>\n",
       "    </tr>\n",
       "    <tr>\n",
       "      <th>2</th>\n",
       "      <td>31112</td>\n",
       "      <td>Male</td>\n",
       "      <td>80.0</td>\n",
       "      <td>0</td>\n",
       "      <td>1</td>\n",
       "      <td>Yes</td>\n",
       "      <td>Private</td>\n",
       "      <td>Rural</td>\n",
       "      <td>105.92</td>\n",
       "      <td>32.5</td>\n",
       "      <td>never smoked</td>\n",
       "      <td>1</td>\n",
       "    </tr>\n",
       "    <tr>\n",
       "      <th>3</th>\n",
       "      <td>60182</td>\n",
       "      <td>Female</td>\n",
       "      <td>49.0</td>\n",
       "      <td>0</td>\n",
       "      <td>0</td>\n",
       "      <td>Yes</td>\n",
       "      <td>Private</td>\n",
       "      <td>Urban</td>\n",
       "      <td>171.23</td>\n",
       "      <td>34.4</td>\n",
       "      <td>smokes</td>\n",
       "      <td>1</td>\n",
       "    </tr>\n",
       "    <tr>\n",
       "      <th>4</th>\n",
       "      <td>1665</td>\n",
       "      <td>Female</td>\n",
       "      <td>79.0</td>\n",
       "      <td>1</td>\n",
       "      <td>0</td>\n",
       "      <td>Yes</td>\n",
       "      <td>Self-employed</td>\n",
       "      <td>Rural</td>\n",
       "      <td>174.12</td>\n",
       "      <td>24.0</td>\n",
       "      <td>never smoked</td>\n",
       "      <td>1</td>\n",
       "    </tr>\n",
       "  </tbody>\n",
       "</table>\n",
       "</div>"
      ],
      "text/plain": [
       "      id  gender   age  hypertension  heart_disease ever_married  \\\n",
       "0   9046    Male  67.0             0              1          Yes   \n",
       "1  51676  Female  61.0             0              0          Yes   \n",
       "2  31112    Male  80.0             0              1          Yes   \n",
       "3  60182  Female  49.0             0              0          Yes   \n",
       "4   1665  Female  79.0             1              0          Yes   \n",
       "\n",
       "       work_type Residence_type  avg_glucose_level   bmi   smoking_status  \\\n",
       "0        Private          Urban             228.69  36.6  formerly smoked   \n",
       "1  Self-employed          Rural             202.21   NaN     never smoked   \n",
       "2        Private          Rural             105.92  32.5     never smoked   \n",
       "3        Private          Urban             171.23  34.4           smokes   \n",
       "4  Self-employed          Rural             174.12  24.0     never smoked   \n",
       "\n",
       "   stroke  \n",
       "0       1  \n",
       "1       1  \n",
       "2       1  \n",
       "3       1  \n",
       "4       1  "
      ]
     },
     "execution_count": 146,
     "metadata": {},
     "output_type": "execute_result"
    }
   ],
   "source": [
    "df.head()"
   ]
  },
  {
   "cell_type": "code",
   "execution_count": 147,
   "metadata": {},
   "outputs": [],
   "source": [
    "sns.set_style('whitegrid')"
   ]
  },
  {
   "cell_type": "code",
   "execution_count": 148,
   "metadata": {},
   "outputs": [
    {
     "data": {
      "text/plain": [
       "<matplotlib.axes._subplots.AxesSubplot at 0x2b57c2c3a48>"
      ]
     },
     "execution_count": 148,
     "metadata": {},
     "output_type": "execute_result"
    },
    {
     "data": {
      "image/png": "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\n",
      "text/plain": [
       "<Figure size 432x288 with 1 Axes>"
      ]
     },
     "metadata": {},
     "output_type": "display_data"
    }
   ],
   "source": [
    "sns.heatmap(df.isnull(),yticklabels=False,cbar=False,cmap='viridis')"
   ]
  },
  {
   "cell_type": "code",
   "execution_count": 149,
   "metadata": {},
   "outputs": [
    {
     "data": {
      "text/plain": [
       "<matplotlib.axes._subplots.AxesSubplot at 0x2b57c30f108>"
      ]
     },
     "execution_count": 149,
     "metadata": {},
     "output_type": "execute_result"
    },
    {
     "data": {
      "image/png": "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\n",
      "text/plain": [
       "<Figure size 432x288 with 1 Axes>"
      ]
     },
     "metadata": {},
     "output_type": "display_data"
    }
   ],
   "source": [
    "sns.countplot('stroke',data=df,hue='gender')"
   ]
  },
  {
   "cell_type": "code",
   "execution_count": 150,
   "metadata": {},
   "outputs": [
    {
     "data": {
      "text/plain": [
       "<matplotlib.axes._subplots.AxesSubplot at 0x2b57d660948>"
      ]
     },
     "execution_count": 150,
     "metadata": {},
     "output_type": "execute_result"
    },
    {
     "data": {
      "image/png": "iVBORw0KGgoAAAANSUhEUgAAAXQAAAEECAYAAAA4Qc+SAAAABHNCSVQICAgIfAhkiAAAAAlwSFlzAAALEgAACxIB0t1+/AAAADh0RVh0U29mdHdhcmUAbWF0cGxvdGxpYiB2ZXJzaW9uMy4xLjMsIGh0dHA6Ly9tYXRwbG90bGliLm9yZy+AADFEAAAWPUlEQVR4nO3df0xV9/3H8dcF5Fa4l1JgKxLUwdSJ8nWWEZsmlLV/WGwX03XBICa4FrOlhl7H0to6VLSBWa1Zu0Vru7g0XbTO6dgfbHHJUpaW0TlMTKsR6WyXzla4uCqsvVz1/uDe7x9tERXuvdxeuPC5z8df3nPf55z3/cB9cfzcc861BIPBoAAA015SvBsAAMQGgQ4AhiDQAcAQBDoAGIJABwBDpMRz5++++66sVmtU63o8nqjXTSSMU2QYp8gxVpGZyHHyeDxaunTpLcvjGuhWq1VFRUVRrdvd3R31uomEcYoM4xQ5xioyEzlO3d3doy5nygUADEGgA4AhCHQAMASBDgCGINABwBAEOgAYgkAHAEMQ6ABgCAIdAAwR1ytFAUTv0yteuTz+sHV2a4puT0udhI4QbwQ6ME25PH61n7sUtq58QQ6BniCYcgEAQxDoAGAIAh0ADMEcOmA4/1BAFwauhK3jw9Ppj0AHDHfVF9A7/+4PW8eHp9NfyED3+XxqaGhQT0+PvF6v1q9fr9zcXD3++OP6xje+IUmqrq7WQw89pL179+rNN99USkqKGhoatGTJksnoHwDwhZCB3traqszMTO3evVsDAwN65JFHVFdXp8cee0y1tbXDdV1dXTpx4oSOHj0qp9Mph8OhlpaWCW8eAHBdyEBfsWKFKioqhh8nJyfrzJkz+vDDD9XW1qa5c+eqoaFBJ0+eVFlZmSwWi/Ly8jQ0NKT+/n5lZWWF3LnH4xnzq5TCuXbtWtTrJhLGKTLTcZy8KTY5+5xh6xbmpEZUdznLIlff+bB103Gs4iEe4xQy0NPT0yVJg4OD2rBhg+rr6+X1erVq1SoVFxfr5Zdf1ksvvSS73a7MzMwb1nO5XGEDne8UnXiMU2Sm4zhdGLiiWbnBsHUz09I0K3dW2LrsnGzl3zE7bN10HKt4mJLfKep0OrV27Vo9/PDDWrlypZYvX67i4mJJ0vLly3X27FnZbDa53e7hddxut+x2e4xaBwBEImSgX7p0SbW1tdq4caMqKyslSevWrdPp06clScePH9fixYtVUlKijo4OBQIB9fb2KhAIhD06BwDEVsgpl1deeUWfffaZ9u3bp3379kmSNm3apB07dmjGjBnKyclRU1OTbDabSktLVVVVpUAgoMbGxklpHgBwXchA37Jli7Zs2XLL8sOHD9+yzOFwyOFwxK4zAMC4cOk/ABiCQAcAQxDoAGAIAh0ADEGgA4AhCHQAMASBDgCGINABwBAEOgAYgkAHAEMQ6ABgCL5TFADC+PSKVy6PP2xdvL9om0AHgDBcHr/az10KWxfvL9pmygUADEGgA4AhCHQAMARz6MBXEOmHZVL8PzCD+Qh04CuI9MMyKf4fmMF8BDowSfxDAV0YuBK2Ll5H8pH2l2RNn4RuEA0CHQllrCkSb4rthjCbiFC96gvonX/3h62L15F8pP0tzrJMQjeIBoGOhDLWFImzz6lZucHhx0yPYDriLBcAMASBDgCGINABwBAEOgAYgkAHAEMQ6ABgCAIdAAxBoAOAIQh0ADAEgQ4Ahgh56b/P51NDQ4N6enrk9Xq1fv16zZs3T5s2bZLFYtH8+fO1bds2JSUlae/evXrzzTeVkpKihoYGLVmyZLJeAwBAYQK9tbVVmZmZ2r17twYGBvTII49o4cKFqq+v1913363Gxka1tbUpLy9PJ06c0NGjR+V0OuVwONTS0jJZrwEAoDCBvmLFClVUVAw/Tk5OVldXl5YtWyZJKi8v19tvv62CggKVlZXJYrEoLy9PQ0ND6u/vV1ZW1sR2DwAYFjLQ09M/v+/x4OCgNmzYoPr6eu3atUsWi2X4eZfLpcHBQWVmZt6wnsvlChvoHo9H3d3dUTV+7dq1qNdNJIkyTknWdF0bCn9bV0vyDDn7nLcs9/t8Nyy/nGWRq+982O15U2yjbm80C3NSI6qN9b4j3W+kdd/K+FpC/E6NFOlYj/zZxeO9F/b2uU6nU3V1dVqzZo1Wrlyp3bt3Dz/ndruVkZEhm80mt9t9w3K73R5251arVUVFRVE13t3dHfW6iSRRxunCwBWdjOCbg+6ak6ZZubNuWf757XOvL8/OyVb+HbMj2u/I2+6GMjNt9H3fLNb7jnS/kdalpFhUNL8wbJ1JIh3rkT+7iXzvjfWHIuRZLpcuXVJtba02btyoyspKSdKiRYvU2dkpSWpvb1dpaalKSkrU0dGhQCCg3t5eBQIBplsAYJKFPEJ/5ZVX9Nlnn2nfvn3at2+fJGnz5s1qbm7WCy+8oMLCQlVUVCg5OVmlpaWqqqpSIBBQY2PjpDQPALguZKBv2bJFW7ZsuWX5wYMHb1nmcDjkcDhi1xkAYFy4sAgADEGgA4AhCHQAMETY0xYBIBqfXvHK5fFHVGu3puj2tNQJ7sh8BDqACeHy+NUewbUBklS+IIdAjwGmXADAEByhA0CM+IcCujBwRdLntwv48t83m6gpJgIdAGLkqi+gd/7dL+nL20mMfruAiZpiYsoFAAxBoAOAIQh0ADAEc+iY0iI9l9njG5qEboCpjUDHlBbpucx3zckMWwOYjikXADDEtD1CT7Kmj3mO50hcUgwgUUzbQL82ZInoK8e4pPiri3Qemz+eQHxN20DH5Il0Hps/nkB8MYcOAIbgCH0aYeoDQCgE+jTC1EdiGHmDp1A49x43I9CBKWbkDZ5C4dx73Iw5dAAwBIEOAIZgyiWBcZ8UwCwEegLjPimAWZhyAQBDcISOmIn0dDuJc+URHa7FCI1AR8xEerqdxLnyiA7XYoTGlAsAGIIjdABxx9WxsUGgA4g7ro6NDaZcAMAQEQX6qVOnVFNTI0nq6urSvffeq5qaGtXU1OjYsWOSpL1796qyslKrV6/W6dOnJ65jAMCowk657N+/X62trZo5c6Yk6ezZs3rsscdUW1s7XNPV1aUTJ07o6NGjcjqdcjgcamlpmbiuDcMVmwBiIWygz5kzR3v27NHTTz8tSTpz5ow+/PBDtbW1ae7cuWpoaNDJkydVVlYmi8WivLw8DQ0Nqb+/X1lZWSG37fF41N3dHVXjflnl7PskbN3lLItcfeej2sdk8abY9MbZ3rB19xfPlbPPGbZu5Gu+du3amGPsTbFFtL2FOakxrZOkT++06vKly2HrLMkzJqVHv893w/JIf28iHcNY9DhV6v7va7N16v2Pw9ZF+rObiB5j/b6P5r1y8+/URPb3pbCBXlFRoQsXLgw/XrJkiVatWqXi4mK9/PLLeumll2S325WZef3DivT0dLlcrrCBbrVaVVRUFFXjp97/WLNyZ4Wty87JVv4ds6Pax2S5MHBFs3KDYetmpqWN+zV3d3ePOcax3m+kdZKUZJ2prouesHV3zYntvseqc/Y5b1ge6e9NpGMYix6nSp0vmKT3+sP/jzLSn91E9Bjr930075Wbf6di2d9YB2nj/lB0+fLlKi4uHv732bNnZbPZ5Ha7h2vcbrfsdnuUrQIAojHuQF+3bt3wh57Hjx/X4sWLVVJSoo6ODgUCAfX29ioQCIQ9OgcAxNa4z0Pfvn27mpqaNGPGDOXk5KipqUk2m02lpaWqqqpSIBBQY2PjRPQalUgvWEjUez8AMEdEgZ6fn68jR45IkhYvXqzDhw/fUuNwOORwOGLbXQxEesFCot77AYA5uFIUQMIy7ZRhAh0YBfcWSQymfckLgQ6MgnuLYDriXi4AYAgCHQAMQaADgCEIdAAwBIEOAIYg0AHAEAQ6ABiCQAcAQxDoAGAIAh0ADEGgA4AhCHQAMASBDgCGINABwBAEOgAYgkAHAEMQ6ABgCAIdAAxBoAOAIQh0ADAEXxL9hUi/5d1uTdHtaamT0BEAjA+B/oVIv+W9fEEOgQ5gSmLKBQAMQaADgCGYchmnSOfaJebbAUwuAn2cIp1rl5hvBzC5CHQDjfxfhDfFNub/KDy+oclsC8AEI9ANNPJ/Ec4+p2blBketu2tO5mS2BWCCRfSh6KlTp1RTUyNJOn/+vKqrq7VmzRpt27ZNgUBAkrR3715VVlZq9erVOn369MR1DAAYVdgj9P3796u1tVUzZ86UJD333HOqr6/X3XffrcbGRrW1tSkvL08nTpzQ0aNH5XQ65XA41NLSMuHNT3WRfoDK1AeAWAgb6HPmzNGePXv09NNPS5K6urq0bNkySVJ5ebnefvttFRQUqKysTBaLRXl5eRoaGlJ/f7+ysrImtvspLtIPUJn6ABALYQO9oqJCFy5cGH4cDAZlsVgkSenp6XK5XBocHFRm5vVQ+nJ5uED3eDzq7u6OqnG/rHL2fRK2bmFOqpx9zkmvi+e+R9b5fb4x10n0sRnp5nFKhNccbd2CrNlTfmwuZ1nk6jsfts6bYovLey/S/sZr3B+KJiVdn3Z3u93KyMiQzWaT2+2+Ybndbg+7LavVqqKiovG2IEk69f7HmpU7K2zdzLS0uNTFc98j6z7/UHT0dRJ9bEa6eZwS4TVHW5eUlDTlxyY7J1v5d8wOW3dh4MqYJw181f5Cvfci7W8sYx0Ij/tK0UWLFqmzs1OS1N7ertLSUpWUlKijo0OBQEC9vb0KBAIJP90CAJNt3EfozzzzjLZu3aoXXnhBhYWFqqioUHJyskpLS1VVVaVAIKDGxsaJ6BUAEEJEgZ6fn68jR45IkgoKCnTw4MFbahwOhxwOR2y7AwBEjJtzAYAhCHQAMASX/gMwTqJe1EegAzBOol7Ux5QLABiCQAcAQxDoAGAIAh0ADEGgA4AhCHQAMASBDgCGINABwBAEOgAYgkAHAEMQ6ABgCAIdAAxBoAOAIQh0ADAEgQ4AhiDQAcAQBDoAGIJABwBDEOgAYAgCHQAMQaADgCEIdAAwBIEOAIYg0AHAEAQ6ABiCQAcAQxDoAGAIAh0ADJES7Yrf//73ZbfbJUn5+fmqqqrSz3/+cyUnJ6usrExPPPFEzJoEAIQXVaB7PB5J0oEDB4aXPfzww9qzZ49mz56tH//4x+rq6tLixYtj0yUAIKyoAv29997T1atXVVtbK7/fL4fDIa/Xqzlz5kiSysrKdPz48bCB7vF41N3dHU0L8ssqZ98nYesW5qTK2eec9Lp47ntknd/nG3OdRB+bkW4ep0R4zdHWLciazdhEUBfqvXc5yyJX3/mw2xuvqAL9tttu07p167Rq1Sr95z//0Y9+9CNlZGQMP5+enq6PP/447HasVquKioqiaUGn3v9Ys3Jnha2bmZYWl7p47ntknbPPOeY6iT42I908TonwmqOtS0pKYmwiqAv13svOyVb+HbPDbm8sYx0IRxXoBQUFmjt3riwWiwoKCmS32/W///1v+Hm3231DwAMAJl5UZ7n84Q9/0M6dOyVJFy9e1NWrV5WWlqaPPvpIwWBQHR0dKi0tjWmjAIDQojpCr6ys1M9+9jNVV1fLYrFox44dSkpK0lNPPaWhoSGVlZXp29/+dqx7BQCEEFWgp6am6he/+MUty48cOfKVGwIARIcLiwDAEAQ6ABiCQAcAQxDoAGAIAh0ADEGgA4AhCHQAMASBDgCGINABwBAEOgAYgkAHAEMQ6ABgCAIdAAxBoAOAIQh0ADAEgQ4AhiDQAcAQBDoAGIJABwBDEOgAYAgCHQAMQaADgCEIdAAwBIEOAIYg0AHAEAQ6ABiCQAcAQxDoAGAIAh0ADEGgA4AhCHQAMERKLDcWCAS0fft2/etf/1Jqaqqam5s1d+7cWO4CADCGmB6hv/HGG/J6vfr973+vJ598Ujt37ozl5gEAIcQ00E+ePKl7771XkrR06VKdOXMmlpsHAIRgCQaDwVhtbPPmzXrggQf03e9+V5J033336Y033lBKyugzO++++66sVmusdg8ACcHj8Wjp0qW3LI/pHLrNZpPb7R5+HAgExgxzSaM2BACITkynXEpKStTe3i7p86PvBQsWxHLzAIAQYjrl8uVZLufOnVMwGNSOHTv0zW9+M1abBwCEENNABwDEDxcWAYAhCHQAMASBDgCGiOlpixONWwuE5vP51NDQoJ6eHnm9Xq1fv17z5s3Tpk2bZLFYNH/+fG3btk1JSfwdl6TLly/rBz/4gV599VWlpKQwTqP49a9/rb/97W/y+Xyqrq7WsmXLGKdR+Hw+bdq0ST09PUpKSlJTU1Ncfqem1U+CWwuE1traqszMTB06dEj79+9XU1OTnnvuOdXX1+vQoUMKBoNqa2uLd5tTgs/nU2Njo2677TZJYpxG0dnZqXfeeUe/+93vdODAAfX19TFOY3jrrbfk9/t1+PBh1dXV6Ze//GVcxmpaBTq3FghtxYoV+slPfjL8ODk5WV1dXVq2bJkkqby8XP/4xz/i1d6UsmvXLq1evVpf//rXJYlxGkVHR4cWLFiguro6Pf7447rvvvsYpzEUFBRoaGhIgUBAg4ODSklJictYTatAHxwclM1mG36cnJwsv98fx46mlvT0dNlsNg0ODmrDhg2qr69XMBiUxWIZft7lcsW5y/j74x//qKysrOGDA0mM0ygGBgZ05swZ/epXv9Kzzz6rp556inEaQ1pamnp6evTggw9q69atqqmpictYTas59PHeWiAROZ1O1dXVac2aNVq5cqV27949/Jzb7VZGRkYcu5saWlpaZLFYdPz4cXV3d+uZZ55Rf3//8POM0+cyMzNVWFio1NRUFRYWymq1qq+vb/h5xum61157TWVlZXryySfldDr1wx/+UD6fb/j5yRqraXWEzq0FQrt06ZJqa2u1ceNGVVZWSpIWLVqkzs5OSVJ7e7tKS0vj2eKU8Prrr+vgwYM6cOCAioqKtGvXLpWXlzNON/nOd76jv//97woGg7p48aKuXr2qe+65h3EaRUZGhux2uyTp9ttvl9/vj8t7b1pdKcqtBUJrbm7WX/7yFxUWFg4v27x5s5qbm+Xz+VRYWKjm5mYlJyfHscuppaamRtu3b1dSUpK2bt3KON3k+eefV2dnp4LBoH76058qPz+fcRqF2+1WQ0ODPvnkE/l8Pq1du1bFxcWTPlbTKtABAGObVlMuAICxEegAYAgCHQAMQaADgCEIdAAwBIEOAIYg0AHAEFw3j4Q0ODiozZs3y+VyaWBgQKtWrVJxcbGeffZZpaenKzs7W1arVTt37tSBAwf05z//WRaLRQ899JDWrl0b7/aBURHoSEjnz5/X9773PT3wwAO6ePGiampqlJ6erueff17z58/Xiy++qIsXL+qDDz7QsWPHdOjQIVksFj366KMqKyu74WpcYKog0JGQcnJy9Nvf/lZ//etfZbPZ5Pf79d///lfz58+X9Pl9TI4dO6Zz586pt7dXjz76qCTp008/1UcffUSgY0oi0JGQXn31VS1dulRr1qzRP//5T7311lvKzc3VBx98oHnz5unUqVOSpMLCQs2bN0+/+c1vZLFY9Nprr3FTOExZBDoS0v3336/t27frT3/6kzIzM5WcnKzGxkY1NDQoLS1NM2bM0J133qmFCxfqnnvuUXV1tbxer5YsWaI777wz3u0Do+LmXMAXXn/9dT344IPKysrSiy++qBkzZuiJJ56Id1tAxDhCB76QnZ2t2tpapaWlyW638521mHY4QgcAQ3BhEQAYgkAHAEMQ6ABgCAIdAAxBoAOAIf4fjvTeJfufpUMAAAAASUVORK5CYII=\n",
      "text/plain": [
       "<Figure size 432x288 with 1 Axes>"
      ]
     },
     "metadata": {},
     "output_type": "display_data"
    }
   ],
   "source": [
    "sns.distplot(df['age'].dropna(),kde=False,bins=30)"
   ]
  },
  {
   "cell_type": "code",
   "execution_count": 151,
   "metadata": {},
   "outputs": [
    {
     "data": {
      "text/plain": [
       "<matplotlib.axes._subplots.AxesSubplot at 0x2b57d688e08>"
      ]
     },
     "execution_count": 151,
     "metadata": {},
     "output_type": "execute_result"
    },
    {
     "data": {
      "image/png": "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\n",
      "text/plain": [
       "<Figure size 432x288 with 1 Axes>"
      ]
     },
     "metadata": {},
     "output_type": "display_data"
    }
   ],
   "source": [
    "sns.countplot('smoking_status',data=df,hue='stroke',palette='magma')"
   ]
  },
  {
   "cell_type": "code",
   "execution_count": 152,
   "metadata": {},
   "outputs": [
    {
     "data": {
      "text/plain": [
       "<matplotlib.axes._subplots.AxesSubplot at 0x2b57d770e48>"
      ]
     },
     "execution_count": 152,
     "metadata": {},
     "output_type": "execute_result"
    },
    {
     "data": {
      "image/png": "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\n",
      "text/plain": [
       "<Figure size 432x288 with 1 Axes>"
      ]
     },
     "metadata": {},
     "output_type": "display_data"
    }
   ],
   "source": [
    "sns.boxplot(x='gender',y='age',data=df,hue='stroke',palette='viridis')"
   ]
  },
  {
   "cell_type": "code",
   "execution_count": 153,
   "metadata": {},
   "outputs": [
    {
     "data": {
      "text/plain": [
       "<matplotlib.axes._subplots.AxesSubplot at 0x2b57d835b48>"
      ]
     },
     "execution_count": 153,
     "metadata": {},
     "output_type": "execute_result"
    },
    {
     "data": {
      "image/png": "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\n",
      "text/plain": [
       "<Figure size 432x288 with 1 Axes>"
      ]
     },
     "metadata": {},
     "output_type": "display_data"
    }
   ],
   "source": [
    "sns.countplot('hypertension',data=df,hue='stroke',palette='rocket_r')"
   ]
  },
  {
   "cell_type": "code",
   "execution_count": 154,
   "metadata": {},
   "outputs": [
    {
     "data": {
      "text/plain": [
       "<matplotlib.axes._subplots.AxesSubplot at 0x2b57d8a4d88>"
      ]
     },
     "execution_count": 154,
     "metadata": {},
     "output_type": "execute_result"
    },
    {
     "data": {
      "image/png": "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\n",
      "text/plain": [
       "<Figure size 432x288 with 1 Axes>"
      ]
     },
     "metadata": {},
     "output_type": "display_data"
    }
   ],
   "source": [
    "sns.countplot('heart_disease',data=df,hue='stroke',palette='cubehelix')"
   ]
  },
  {
   "cell_type": "code",
   "execution_count": 155,
   "metadata": {},
   "outputs": [
    {
     "data": {
      "text/plain": [
       "<matplotlib.axes._subplots.AxesSubplot at 0x2b57d909788>"
      ]
     },
     "execution_count": 155,
     "metadata": {},
     "output_type": "execute_result"
    },
    {
     "data": {
      "image/png": "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\n",
      "text/plain": [
       "<Figure size 432x288 with 1 Axes>"
      ]
     },
     "metadata": {},
     "output_type": "display_data"
    }
   ],
   "source": [
    "sns.boxplot(x='heart_disease',y='age',data=df,hue='stroke',palette='terrain')"
   ]
  },
  {
   "cell_type": "code",
   "execution_count": 156,
   "metadata": {},
   "outputs": [
    {
     "data": {
      "text/plain": [
       "<matplotlib.axes._subplots.AxesSubplot at 0x2b57d9b2508>"
      ]
     },
     "execution_count": 156,
     "metadata": {},
     "output_type": "execute_result"
    },
    {
     "data": {
      "image/png": "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\n",
      "text/plain": [
       "<Figure size 432x288 with 1 Axes>"
      ]
     },
     "metadata": {},
     "output_type": "display_data"
    }
   ],
   "source": [
    "sns.boxplot(x='hypertension',y='age',data=df,hue='stroke',palette='Blues')"
   ]
  },
  {
   "cell_type": "code",
   "execution_count": 110,
   "metadata": {},
   "outputs": [],
   "source": [
    "sex=pd.get_dummies(df['gender'],drop_first=True)\n",
    "smoking=pd.get_dummies(df['smoking_status'],drop_first=True)"
   ]
  },
  {
   "cell_type": "code",
   "execution_count": 111,
   "metadata": {},
   "outputs": [],
   "source": [
    "df=pd.concat([df,sex,smoking],axis=1)"
   ]
  },
  {
   "cell_type": "code",
   "execution_count": 112,
   "metadata": {},
   "outputs": [
    {
     "data": {
      "text/html": [
       "<div>\n",
       "<style scoped>\n",
       "    .dataframe tbody tr th:only-of-type {\n",
       "        vertical-align: middle;\n",
       "    }\n",
       "\n",
       "    .dataframe tbody tr th {\n",
       "        vertical-align: top;\n",
       "    }\n",
       "\n",
       "    .dataframe thead th {\n",
       "        text-align: right;\n",
       "    }\n",
       "</style>\n",
       "<table border=\"1\" class=\"dataframe\">\n",
       "  <thead>\n",
       "    <tr style=\"text-align: right;\">\n",
       "      <th></th>\n",
       "      <th>id</th>\n",
       "      <th>gender</th>\n",
       "      <th>age</th>\n",
       "      <th>hypertension</th>\n",
       "      <th>heart_disease</th>\n",
       "      <th>ever_married</th>\n",
       "      <th>work_type</th>\n",
       "      <th>Residence_type</th>\n",
       "      <th>avg_glucose_level</th>\n",
       "      <th>bmi</th>\n",
       "      <th>smoking_status</th>\n",
       "      <th>stroke</th>\n",
       "      <th>Male</th>\n",
       "      <th>Other</th>\n",
       "      <th>formerly smoked</th>\n",
       "      <th>never smoked</th>\n",
       "      <th>smokes</th>\n",
       "    </tr>\n",
       "  </thead>\n",
       "  <tbody>\n",
       "    <tr>\n",
       "      <th>0</th>\n",
       "      <td>9046</td>\n",
       "      <td>Male</td>\n",
       "      <td>67.0</td>\n",
       "      <td>0</td>\n",
       "      <td>1</td>\n",
       "      <td>Yes</td>\n",
       "      <td>Private</td>\n",
       "      <td>Urban</td>\n",
       "      <td>228.69</td>\n",
       "      <td>36.6</td>\n",
       "      <td>formerly smoked</td>\n",
       "      <td>1</td>\n",
       "      <td>1</td>\n",
       "      <td>0</td>\n",
       "      <td>1</td>\n",
       "      <td>0</td>\n",
       "      <td>0</td>\n",
       "    </tr>\n",
       "    <tr>\n",
       "      <th>1</th>\n",
       "      <td>51676</td>\n",
       "      <td>Female</td>\n",
       "      <td>61.0</td>\n",
       "      <td>0</td>\n",
       "      <td>0</td>\n",
       "      <td>Yes</td>\n",
       "      <td>Self-employed</td>\n",
       "      <td>Rural</td>\n",
       "      <td>202.21</td>\n",
       "      <td>NaN</td>\n",
       "      <td>never smoked</td>\n",
       "      <td>1</td>\n",
       "      <td>0</td>\n",
       "      <td>0</td>\n",
       "      <td>0</td>\n",
       "      <td>1</td>\n",
       "      <td>0</td>\n",
       "    </tr>\n",
       "    <tr>\n",
       "      <th>2</th>\n",
       "      <td>31112</td>\n",
       "      <td>Male</td>\n",
       "      <td>80.0</td>\n",
       "      <td>0</td>\n",
       "      <td>1</td>\n",
       "      <td>Yes</td>\n",
       "      <td>Private</td>\n",
       "      <td>Rural</td>\n",
       "      <td>105.92</td>\n",
       "      <td>32.5</td>\n",
       "      <td>never smoked</td>\n",
       "      <td>1</td>\n",
       "      <td>1</td>\n",
       "      <td>0</td>\n",
       "      <td>0</td>\n",
       "      <td>1</td>\n",
       "      <td>0</td>\n",
       "    </tr>\n",
       "    <tr>\n",
       "      <th>3</th>\n",
       "      <td>60182</td>\n",
       "      <td>Female</td>\n",
       "      <td>49.0</td>\n",
       "      <td>0</td>\n",
       "      <td>0</td>\n",
       "      <td>Yes</td>\n",
       "      <td>Private</td>\n",
       "      <td>Urban</td>\n",
       "      <td>171.23</td>\n",
       "      <td>34.4</td>\n",
       "      <td>smokes</td>\n",
       "      <td>1</td>\n",
       "      <td>0</td>\n",
       "      <td>0</td>\n",
       "      <td>0</td>\n",
       "      <td>0</td>\n",
       "      <td>1</td>\n",
       "    </tr>\n",
       "    <tr>\n",
       "      <th>4</th>\n",
       "      <td>1665</td>\n",
       "      <td>Female</td>\n",
       "      <td>79.0</td>\n",
       "      <td>1</td>\n",
       "      <td>0</td>\n",
       "      <td>Yes</td>\n",
       "      <td>Self-employed</td>\n",
       "      <td>Rural</td>\n",
       "      <td>174.12</td>\n",
       "      <td>24.0</td>\n",
       "      <td>never smoked</td>\n",
       "      <td>1</td>\n",
       "      <td>0</td>\n",
       "      <td>0</td>\n",
       "      <td>0</td>\n",
       "      <td>1</td>\n",
       "      <td>0</td>\n",
       "    </tr>\n",
       "  </tbody>\n",
       "</table>\n",
       "</div>"
      ],
      "text/plain": [
       "      id  gender   age  hypertension  heart_disease ever_married  \\\n",
       "0   9046    Male  67.0             0              1          Yes   \n",
       "1  51676  Female  61.0             0              0          Yes   \n",
       "2  31112    Male  80.0             0              1          Yes   \n",
       "3  60182  Female  49.0             0              0          Yes   \n",
       "4   1665  Female  79.0             1              0          Yes   \n",
       "\n",
       "       work_type Residence_type  avg_glucose_level   bmi   smoking_status  \\\n",
       "0        Private          Urban             228.69  36.6  formerly smoked   \n",
       "1  Self-employed          Rural             202.21   NaN     never smoked   \n",
       "2        Private          Rural             105.92  32.5     never smoked   \n",
       "3        Private          Urban             171.23  34.4           smokes   \n",
       "4  Self-employed          Rural             174.12  24.0     never smoked   \n",
       "\n",
       "   stroke  Male  Other  formerly smoked  never smoked  smokes  \n",
       "0       1     1      0                1             0       0  \n",
       "1       1     0      0                0             1       0  \n",
       "2       1     1      0                0             1       0  \n",
       "3       1     0      0                0             0       1  \n",
       "4       1     0      0                0             1       0  "
      ]
     },
     "execution_count": 112,
     "metadata": {},
     "output_type": "execute_result"
    }
   ],
   "source": [
    "df.head()"
   ]
  },
  {
   "cell_type": "code",
   "execution_count": 113,
   "metadata": {},
   "outputs": [],
   "source": [
    "df.drop(['age','ever_married','work_type','Residence_type','avg_glucose_level','bmi'],axis=1,inplace=True)"
   ]
  },
  {
   "cell_type": "code",
   "execution_count": 114,
   "metadata": {},
   "outputs": [],
   "source": [
    "df.drop(['gender','smoking_status'],axis=1,inplace=True)"
   ]
  },
  {
   "cell_type": "code",
   "execution_count": 115,
   "metadata": {},
   "outputs": [
    {
     "data": {
      "text/html": [
       "<div>\n",
       "<style scoped>\n",
       "    .dataframe tbody tr th:only-of-type {\n",
       "        vertical-align: middle;\n",
       "    }\n",
       "\n",
       "    .dataframe tbody tr th {\n",
       "        vertical-align: top;\n",
       "    }\n",
       "\n",
       "    .dataframe thead th {\n",
       "        text-align: right;\n",
       "    }\n",
       "</style>\n",
       "<table border=\"1\" class=\"dataframe\">\n",
       "  <thead>\n",
       "    <tr style=\"text-align: right;\">\n",
       "      <th></th>\n",
       "      <th>id</th>\n",
       "      <th>hypertension</th>\n",
       "      <th>heart_disease</th>\n",
       "      <th>stroke</th>\n",
       "      <th>Male</th>\n",
       "      <th>Other</th>\n",
       "      <th>formerly smoked</th>\n",
       "      <th>never smoked</th>\n",
       "      <th>smokes</th>\n",
       "    </tr>\n",
       "  </thead>\n",
       "  <tbody>\n",
       "    <tr>\n",
       "      <th>0</th>\n",
       "      <td>9046</td>\n",
       "      <td>0</td>\n",
       "      <td>1</td>\n",
       "      <td>1</td>\n",
       "      <td>1</td>\n",
       "      <td>0</td>\n",
       "      <td>1</td>\n",
       "      <td>0</td>\n",
       "      <td>0</td>\n",
       "    </tr>\n",
       "    <tr>\n",
       "      <th>1</th>\n",
       "      <td>51676</td>\n",
       "      <td>0</td>\n",
       "      <td>0</td>\n",
       "      <td>1</td>\n",
       "      <td>0</td>\n",
       "      <td>0</td>\n",
       "      <td>0</td>\n",
       "      <td>1</td>\n",
       "      <td>0</td>\n",
       "    </tr>\n",
       "    <tr>\n",
       "      <th>2</th>\n",
       "      <td>31112</td>\n",
       "      <td>0</td>\n",
       "      <td>1</td>\n",
       "      <td>1</td>\n",
       "      <td>1</td>\n",
       "      <td>0</td>\n",
       "      <td>0</td>\n",
       "      <td>1</td>\n",
       "      <td>0</td>\n",
       "    </tr>\n",
       "    <tr>\n",
       "      <th>3</th>\n",
       "      <td>60182</td>\n",
       "      <td>0</td>\n",
       "      <td>0</td>\n",
       "      <td>1</td>\n",
       "      <td>0</td>\n",
       "      <td>0</td>\n",
       "      <td>0</td>\n",
       "      <td>0</td>\n",
       "      <td>1</td>\n",
       "    </tr>\n",
       "    <tr>\n",
       "      <th>4</th>\n",
       "      <td>1665</td>\n",
       "      <td>1</td>\n",
       "      <td>0</td>\n",
       "      <td>1</td>\n",
       "      <td>0</td>\n",
       "      <td>0</td>\n",
       "      <td>0</td>\n",
       "      <td>1</td>\n",
       "      <td>0</td>\n",
       "    </tr>\n",
       "  </tbody>\n",
       "</table>\n",
       "</div>"
      ],
      "text/plain": [
       "      id  hypertension  heart_disease  stroke  Male  Other  formerly smoked  \\\n",
       "0   9046             0              1       1     1      0                1   \n",
       "1  51676             0              0       1     0      0                0   \n",
       "2  31112             0              1       1     1      0                0   \n",
       "3  60182             0              0       1     0      0                0   \n",
       "4   1665             1              0       1     0      0                0   \n",
       "\n",
       "   never smoked  smokes  \n",
       "0             0       0  \n",
       "1             1       0  \n",
       "2             1       0  \n",
       "3             0       1  \n",
       "4             1       0  "
      ]
     },
     "execution_count": 115,
     "metadata": {},
     "output_type": "execute_result"
    }
   ],
   "source": [
    "df.head()"
   ]
  },
  {
   "cell_type": "code",
   "execution_count": 116,
   "metadata": {},
   "outputs": [],
   "source": [
    "X=df.drop('stroke',axis=1)\n",
    "y=df['stroke']"
   ]
  },
  {
   "cell_type": "code",
   "execution_count": 133,
   "metadata": {},
   "outputs": [],
   "source": [
    "from sklearn.model_selection import train_test_split"
   ]
  },
  {
   "cell_type": "code",
   "execution_count": 134,
   "metadata": {},
   "outputs": [],
   "source": [
    "X_train, X_test, y_train, y_test = train_test_split(X, y, test_size=0.3,random_state=110)"
   ]
  },
  {
   "cell_type": "code",
   "execution_count": 135,
   "metadata": {},
   "outputs": [],
   "source": [
    "from sklearn.linear_model import LogisticRegression"
   ]
  },
  {
   "cell_type": "code",
   "execution_count": 136,
   "metadata": {},
   "outputs": [],
   "source": [
    "logmodel=LogisticRegression()"
   ]
  },
  {
   "cell_type": "code",
   "execution_count": 137,
   "metadata": {},
   "outputs": [
    {
     "data": {
      "text/plain": [
       "LogisticRegression(C=1.0, class_weight=None, dual=False, fit_intercept=True,\n",
       "                   intercept_scaling=1, l1_ratio=None, max_iter=100,\n",
       "                   multi_class='auto', n_jobs=None, penalty='l2',\n",
       "                   random_state=None, solver='lbfgs', tol=0.0001, verbose=0,\n",
       "                   warm_start=False)"
      ]
     },
     "execution_count": 137,
     "metadata": {},
     "output_type": "execute_result"
    }
   ],
   "source": [
    "logmodel.fit(X_train,y_train)"
   ]
  },
  {
   "cell_type": "code",
   "execution_count": 138,
   "metadata": {},
   "outputs": [],
   "source": [
    "predictions=logmodel.predict(X_test)"
   ]
  },
  {
   "cell_type": "code",
   "execution_count": 139,
   "metadata": {},
   "outputs": [
    {
     "ename": "NameError",
     "evalue": "name '_prf_divide' is not defined",
     "output_type": "error",
     "traceback": [
      "\u001b[1;31m---------------------------------------------------------------------------\u001b[0m",
      "\u001b[1;31mNameError\u001b[0m                                 Traceback (most recent call last)",
      "\u001b[1;32m<ipython-input-139-78f7bfc261b2>\u001b[0m in \u001b[0;36m<module>\u001b[1;34m\u001b[0m\n\u001b[1;32m----> 1\u001b[1;33m precision = _prf_divide(\n\u001b[0m\u001b[0;32m      2\u001b[0m     \u001b[0mtp_sum\u001b[0m\u001b[1;33m,\u001b[0m \u001b[0mpred_sum\u001b[0m\u001b[1;33m,\u001b[0m \u001b[1;34m\"precision\"\u001b[0m\u001b[1;33m,\u001b[0m \u001b[1;34m\"predicted\"\u001b[0m\u001b[1;33m,\u001b[0m \u001b[0maverage\u001b[0m\u001b[1;33m,\u001b[0m \u001b[0mwarn_for\u001b[0m\u001b[1;33m,\u001b[0m \u001b[0mzero_division\u001b[0m\u001b[1;33m\u001b[0m\u001b[1;33m\u001b[0m\u001b[0m\n\u001b[0;32m      3\u001b[0m )\n\u001b[0;32m      4\u001b[0m recall = _prf_divide(\n\u001b[0;32m      5\u001b[0m     \u001b[0mtp_sum\u001b[0m\u001b[1;33m,\u001b[0m \u001b[0mtrue_sum\u001b[0m\u001b[1;33m,\u001b[0m \u001b[1;34m\"recall\"\u001b[0m\u001b[1;33m,\u001b[0m \u001b[1;34m\"true\"\u001b[0m\u001b[1;33m,\u001b[0m \u001b[0maverage\u001b[0m\u001b[1;33m,\u001b[0m \u001b[0mwarn_for\u001b[0m\u001b[1;33m,\u001b[0m \u001b[0mzero_division\u001b[0m\u001b[1;33m\u001b[0m\u001b[1;33m\u001b[0m\u001b[0m\n",
      "\u001b[1;31mNameError\u001b[0m: name '_prf_divide' is not defined"
     ]
    }
   ]
  {
   "cell_type": "code",
   "execution_count": 140,
   "metadata": {},
   "outputs": [],
   "source": [
    "from sklearn.metrics import classification_report,confusion_matrix"
   ]
  },
  {
   "cell_type": "code",
   "execution_count": 141,
   "metadata": {},
   "outputs": [
    {
     "name": "stdout",
     "output_type": "stream",
     "text": [
      "              precision    recall  f1-score   support\n",
      "\n",
      "           0       0.95      1.00      0.98      1460\n",
      "           1       0.00      0.00      0.00        73\n",
      "\n",
      "    accuracy                           0.95      1533\n",
      "   macro avg       0.48      0.50      0.49      1533\n",
      "weighted avg       0.91      0.95      0.93      1533\n",
      "\n",
      "[[1460    0]\n",
      " [  73    0]]\n"
     ]
    },
    {
     "name": "stderr",
     "output_type": "stream",
     "text": [
      "C:\\Users\\DELL\\anaconda3\\lib\\site-packages\\sklearn\\metrics\\_classification.py:1272: UndefinedMetricWarning: Precision and F-score are ill-defined and being set to 0.0 in labels with no predicted samples. Use `zero_division` parameter to control this behavior.\n",
      "  _warn_prf(average, modifier, msg_start, len(result))\n"
     ]
    }
   ],
   "source": [
    "print(classification_report(y_test,predictions))\n",
    "print(confusion_matrix(y_test,predictions))"
   ]
  },
  {
   "cell_type": "code",
   "execution_count": null,
   "metadata": {},
   "outputs": [],
   "source": []
  }
 ],
 "metadata": {
  "kernelspec": {
   "display_name": "Python 3",
   "language": "python",
   "name": "python3"
  },
  "language_info": {
   "codemirror_mode": {
    "name": "ipython",
    "version": 3
   },
   "file_extension": ".py",
   "mimetype": "text/x-python",
   "name": "python",
   "nbconvert_exporter": "python",
   "pygments_lexer": "ipython3",
   "version": "3.7.6"
  }
 },
 "nbformat": 4,
 "nbformat_minor": 4
}
